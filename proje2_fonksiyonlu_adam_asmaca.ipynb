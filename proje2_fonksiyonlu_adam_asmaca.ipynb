{
  "nbformat": 4,
  "nbformat_minor": 0,
  "metadata": {
    "colab": {
      "provenance": [],
      "authorship_tag": "ABX9TyMNI3qJm+rYSokWkTflAj8w",
      "include_colab_link": true
    },
    "kernelspec": {
      "name": "python3",
      "display_name": "Python 3"
    },
    "language_info": {
      "name": "python"
    }
  },
  "cells": [
    {
      "cell_type": "markdown",
      "metadata": {
        "id": "view-in-github",
        "colab_type": "text"
      },
      "source": [
        "<a href=\"https://colab.research.google.com/github/gozdenurr/hu-bby162-2024/blob/main/proje2_fonksiyonlu_adam_asmaca.ipynb\" target=\"_parent\"><img src=\"https://colab.research.google.com/assets/colab-badge.svg\" alt=\"Open In Colab\"/></a>"
      ]
    },
    {
      "cell_type": "code",
      "execution_count": null,
      "metadata": {
        "id": "CI73KYT8op-_"
      },
      "outputs": [],
      "source": [
        "from random import choice\n",
        "\n",
        "def adam_asmaca():\n",
        "    print(\"Zorluk seviyesini seçiniz: Kolay, Orta, Zor\")\n",
        "    seviye = input().lower()\n",
        "\n",
        "    if seviye == \"kolay\":\n",
        "        can = 7\n",
        "    elif seviye == \"orta\":\n",
        "        can = 5\n",
        "    else:\n",
        "        can = 3\n",
        "\n",
        "    kelimeler = [\"bisiklet\", \"triatlon\", \"yüzme\", \"koşu\"]\n",
        "    secilen_kelime = choice(kelimeler)\n",
        "    print(\"Seçilen kelime:\", secilen_kelime)\n",
        "    dizilen_kelime = [\"_\"] * len(secilen_kelime)\n",
        "    print(\" \".join(dizilen_kelime))\n",
        "\n",
        "    while can > 0:\n",
        "        if \"_\" not in dizilen_kelime:\n",
        "            print(\"Kazandınız!\")\n",
        "            break\n",
        "\n",
        "        girilen_harf = input(\"Bir harf giriniz: \").lower()\n",
        "\n",
        "        if len(girilen_harf) != 1 or not girilen_harf.isalpha():\n",
        "            print(\"Lütfen geçerli bir harf giriniz.\")\n",
        "            continue\n",
        "\n",
        "        if girilen_harf in secilen_kelime:\n",
        "            for i, harf in enumerate(secilen_kelime):\n",
        "                if harf == girilen_harf:\n",
        "                    dizilen_kelime[i] = girilen_harf\n",
        "        else:\n",
        "            can -= 1\n",
        "            print(f\"Yanlış tahmin! Kalan can: {can}\")\n",
        "\n",
        "        print(\" \".join(dizilen_kelime))\n",
        "\n",
        "    if can == 0:\n",
        "        print(f\"Kaybettiniz! Kelime: {secilen_kelime}\")\n",
        "\n",
        "while True:\n",
        "    adam_asmaca()\n",
        "    yeniden = input(\"Yeniden oynamak istiyor musunuz: (evet 'y', hayır 'h')\").lower()\n",
        "    if yeniden == \"h\":\n",
        "        break"
      ]
    }
  ]
}