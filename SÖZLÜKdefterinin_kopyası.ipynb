{
  "nbformat": 4,
  "nbformat_minor": 0,
  "metadata": {
    "colab": {
      "provenance": [],
      "authorship_tag": "ABX9TyOCLtoKOuP2EeIzWT5Zy05N",
      "include_colab_link": true
    },
    "kernelspec": {
      "name": "python3",
      "display_name": "Python 3"
    },
    "language_info": {
      "name": "python"
    }
  },
  "cells": [
    {
      "cell_type": "markdown",
      "metadata": {
        "id": "view-in-github",
        "colab_type": "text"
      },
      "source": [
        "<a href=\"https://colab.research.google.com/github/gozdenurr/hu-bby162-2024/blob/main/S%C3%96ZL%C3%9CKdefterinin_kopyas%C4%B1.ipynb\" target=\"_parent\"><img src=\"https://colab.research.google.com/assets/colab-badge.svg\" alt=\"Open In Colab\"/></a>"
      ]
    },
    {
      "cell_type": "code",
      "execution_count": null,
      "metadata": {
        "id": "L9w-tukO5j5D",
        "colab": {
          "base_uri": "https://localhost:8080/"
        },
        "outputId": "4301eef0-fc37-4e2f-a942-36ca32464b6a"
      },
      "outputs": [
        {
          "output_type": "stream",
          "name": "stdout",
          "text": [
            "{'Adli': 'adaletle ilgili demektir adalet teşkilatı bünyesinde anlamına da gelir.', 'Batıl': 'Doğru ve haklı olmayan', 'Dava': 'Bir kimsenin diğer kimseden hakim huzurunda hakkını istemesi', 'Demokratik devlet': 'Halkın devlet yönetimine katılması esasına dayanan devlettir', 'Mahcur': 'Vesayet altına alınmış kişi', 'Makul': 'Akla uygun', 'Siyasi haklar': 'Herhangi bir biçimde devletin yönetimine ve siyasi kuruluşlarına katılmaya yönelik haklardır', 'Tacir': 'Ticaretle uğraşan', 'Tahkik': 'Soruşturma', 'Yargıç': 'Hakim', 'Yazanak': 'Rapor', 'Zanlı': 'Şüpheli', 'Zaruret': 'Zorunluluk', 'Zillet': 'Hor görülme'}\n",
            "dict_keys(['Adli', 'Batıl', 'Dava', 'Demokratik devlet', 'Mahcur', 'Makul', 'Siyasi haklar', 'Tacir', 'Tahkik', 'Yargıç', 'Yazanak', 'Zanlı', 'Zaruret', 'Zillet'])\n",
            "dict_values(['adaletle ilgili demektir adalet teşkilatı bünyesinde anlamına da gelir.', 'Doğru ve haklı olmayan', 'Bir kimsenin diğer kimseden hakim huzurunda hakkını istemesi', 'Halkın devlet yönetimine katılması esasına dayanan devlettir', 'Vesayet altına alınmış kişi', 'Akla uygun', 'Herhangi bir biçimde devletin yönetimine ve siyasi kuruluşlarına katılmaya yönelik haklardır', 'Ticaretle uğraşan', 'Soruşturma', 'Hakim', 'Rapor', 'Şüpheli', 'Zorunluluk', 'Hor görülme'])\n"
          ]
        }
      ],
      "source": [
        "hukukSozlugu = {\"Adli\": \"adaletle ilgili demektir adalet teşkilatı bünyesinde anlamına da gelir.\", \"Batıl\": \"Doğru ve haklı olmayan\" ,\n",
        "                \"Dava\":\"Bir kimsenin diğer kimseden hakim huzurunda hakkını istemesi\",\n",
        "                \"Demokratik devlet\": \"Halkın devlet yönetimine katılması esasına dayanan devlettir\", \"Mahcur\": \"Vesayet altına alınmış kişi\" ,\n",
        "                \"Makul\": \"Akla uygun\" , \"Siyasi haklar\": \"Herhangi bir biçimde devletin yönetimine ve siyasi kuruluşlarına katılmaya yönelik haklardır\",\n",
        "                \"Tacir\":\"Ticaretle uğraşan\" , \"Tahkik\" : \"Soruşturma\", \"Yargıç\": \"Hakim\", \"Yazanak\": \"Rapor\", \"Zanlı\":\"Şüpheli\",\n",
        "                \"Zaruret\": \"Zorunluluk\" , \"Zillet\": \"Hor görülme\"}\n",
        "print(hukukSozlugu)\n",
        "print(hukukSozlugu.keys())\n",
        "print(hukukSozlugu.values())"
      ]
    },
    {
      "cell_type": "code",
      "source": [
        "hukukSozlugu[\"Zürriyet\"] = \"Soy\"\n",
        "print(hukukSozlugu)"
      ],
      "metadata": {
        "colab": {
          "base_uri": "https://localhost:8080/"
        },
        "id": "4WAyA_RLY2bb",
        "outputId": "009c59f5-6f77-4aae-a64c-8866886d37b4"
      },
      "execution_count": null,
      "outputs": [
        {
          "output_type": "stream",
          "name": "stdout",
          "text": [
            "{'adli': 'adaletle ilgili demektir adalet teşkilatı bünyesinde anlamına da gelir.', 'Batıl': 'Doğru ve haklı olmayan', 'Dava': 'Bir kimsenin diğer kimseden hakim huzurunda hakkını istemesi', 'Demokratik devlet': 'Halkın devlet yönetimine katılması esasına dayanan devlettir', 'Mahcur': 'Vesayet altına alınmış kişi', 'Makul': 'Akla uygun', 'Siyasi haklar': 'Herhangi bir biçimde devletin yönetimine ve siyasi kuruluşlarına katılmaya yönelik haklardır', 'Tacir': 'Ticaretle uğraşan', 'Tahkik': 'Soruşturma', 'Yargıç': 'Hakim', 'Yazanak': 'Rapor', 'Zanlı': 'Şüpheli', 'Zaruret': 'Zorunluluk', 'Zillet': 'Hor görülme', 'Zımnen': 'Dolaylı olarak', 'Zürriyet': 'Soy'}\n"
          ]
        }
      ]
    },
    {
      "cell_type": "code",
      "source": [
        "del hukukSozlugu[\"Adli\"]\n",
        "print(hukukSozlugu)"
      ],
      "metadata": {
        "colab": {
          "base_uri": "https://localhost:8080/"
        },
        "id": "1-DybyCqcWl1",
        "outputId": "74fd86bb-ec52-4845-bc63-0c1d114a5584"
      },
      "execution_count": null,
      "outputs": [
        {
          "output_type": "stream",
          "name": "stdout",
          "text": [
            "{'Batıl': 'Doğru ve haklı olmayan', 'Dava': 'Bir kimsenin diğer kimseden hakim huzurunda hakkını istemesi', 'Demokratik devlet': 'Halkın devlet yönetimine katılması esasına dayanan devlettir', 'Mahcur': 'Vesayet altına alınmış kişi', 'Makul': 'Akla uygun', 'Siyasi haklar': 'Herhangi bir biçimde devletin yönetimine ve siyasi kuruluşlarına katılmaya yönelik haklardır', 'Tacir': 'Ticaretle uğraşan', 'Tahkik': 'Soruşturma', 'Yargıç': 'Hakim', 'Yazanak': 'Rapor', 'Zanlı': 'Şüpheli', 'Zaruret': 'Zorunluluk', 'Zillet': 'Hor görülme'}\n"
          ]
        }
      ]
    },
    {
      "cell_type": "code",
      "source": [
        "hukukSozlugu[\"Batıl\"] = \"Yanlış olan\"\n",
        "print(hukukSozlugu)"
      ],
      "metadata": {
        "colab": {
          "base_uri": "https://localhost:8080/"
        },
        "id": "IbPeocW5cYA4",
        "outputId": "279e08c1-1fa2-465f-de08-856a55a0db43"
      },
      "execution_count": null,
      "outputs": [
        {
          "output_type": "stream",
          "name": "stdout",
          "text": [
            "{'Batıl': 'Yanlış olan', 'Dava': 'Bir kimsenin diğer kimseden hakim huzurunda hakkını istemesi', 'Demokratik devlet': 'Halkın devlet yönetimine katılması esasına dayanan devlettir', 'Mahcur': 'Vesayet altına alınmış kişi', 'Makul': 'Akla uygun', 'Siyasi haklar': 'Herhangi bir biçimde devletin yönetimine ve siyasi kuruluşlarına katılmaya yönelik haklardır', 'Tacir': 'Ticaretle uğraşan', 'Tahkik': 'Soruşturma', 'Yargıç': 'Hakim', 'Yazanak': 'Rapor', 'Zanlı': 'Şüpheli', 'Zaruret': 'Zorunluluk', 'Zillet': 'Hor görülme'}\n"
          ]
        }
      ]
    },
    {
      "cell_type": "code",
      "source": [
        "anahtar = input(\"Aranacak kelimeyi girin: \")\n",
        "print(hukukSozlugu[anahtar])"
      ],
      "metadata": {
        "colab": {
          "base_uri": "https://localhost:8080/"
        },
        "id": "sGfndJWMrxIC",
        "outputId": "4258a4d4-a1e2-4f6e-8e74-13e165b24563"
      },
      "execution_count": null,
      "outputs": [
        {
          "output_type": "stream",
          "name": "stdout",
          "text": [
            "Aranacak kelimeyi girin: Tacir\n",
            "Ticaretle uğraşan\n"
          ]
        }
      ]
    }
  ]
}