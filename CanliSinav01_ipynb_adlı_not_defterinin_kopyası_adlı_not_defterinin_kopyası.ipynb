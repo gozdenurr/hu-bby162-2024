{
  "nbformat": 4,
  "nbformat_minor": 0,
  "metadata": {
    "colab": {
      "provenance": [],
      "include_colab_link": true
    },
    "kernelspec": {
      "name": "python3",
      "display_name": "Python 3"
    },
    "language_info": {
      "name": "python"
    }
  },
  "cells": [
    {
      "cell_type": "markdown",
      "metadata": {
        "id": "view-in-github",
        "colab_type": "text"
      },
      "source": [
        "<a href=\"https://colab.research.google.com/github/gozdenurr/hu-bby162-2024/blob/main/CanliSinav01_ipynb_adl%C4%B1_not_defterinin_kopyas%C4%B1_adl%C4%B1_not_defterinin_kopyas%C4%B1.ipynb\" target=\"_parent\"><img src=\"https://colab.research.google.com/assets/colab-badge.svg\" alt=\"Open In Colab\"/></a>"
      ]
    },
    {
      "cell_type": "markdown",
      "source": [
        "**Canlı Sınav 01'e hoşgeldiniz!**"
      ],
      "metadata": {
        "id": "ItmuxWgBbkC1"
      }
    },
    {
      "cell_type": "markdown",
      "source": [
        "Canlı sınav, bilgisayar laboratuvarında bilgisayar başında yapılan ve teslim edilen projeyi ifade etmektedir. Canlı sınavda yazmış olduğunuz kodlar sizin sorumluluğunuzdadır ve gerekirse hangi kodu neden yazdığınızı açık bir şekilde anlatabilmeniz gerekmektedir. Canlı sınav sırasında İnternet üzerindeki kaynaklar kullanılabilir ancak başka bir kişiden destek alınamaz.\n",
        "\n",
        "Canlı sınavın teslim şekli önceki proje çalışmasında olduğu gibidir. \"Canlı Sınav 01\" adlı Colab not defterinin bir kopyasını çıkarmalı, size ait olan bu kopya üzerinde soruları cevaplamalı, GitHub'daki ders deponuza size ait kopyayı yüklemeli ve not defterinin adresini metin alanına yazarak göndermelisiniz.\n",
        "\n",
        "Canlı sınavın doğru şekilde tamamlanması da sınavın önemli bir parçasıdır. Sınav için gönderdiğiniz adresi kontrol ediniz ve doğru dosyayı depoya yerleştirdiği bizden emin olunuz. Teslim sürecinde yapılan hatalar sınavdan 0 puan almanıza yol açabilir!\n",
        "\n",
        "Önemli Not: Soruları cecaplarken sadece şu ana kadar öğrendiğiniz kod yapılarını kullanmanız gerekmektedir!!!"
      ],
      "metadata": {
        "id": "KGjdjR5RbTgH"
      }
    },
    {
      "cell_type": "markdown",
      "source": [
        "**----- Sorular -----**"
      ],
      "metadata": {
        "id": "zBvdh4s8cOqM"
      }
    },
    {
      "cell_type": "markdown",
      "source": [
        "**Soru 1:** Bir giriş sisteminde kullanıcı adı olarak eposta ya da telefon numarası kullanılabilmektedir. Şifre ise tektir. Klavyeden doğru kullanıcı adı ve şifre girildiğinde ekrana \" Sisteme giriş yaptınız\" , yanlış kullanıcı adı girildiğinde \"kullanıcı adı hatalı\" , yanlış şifre girildiğinde \"şifre hatalı\" bilgisi yazdırılmalıdır. Kullanıcı adı hatalı ise şifre sorma adımına geçilmemelidir."
      ],
      "metadata": {
        "id": "ma0FVqgQiLBe"
      }
    },
    {
      "cell_type": "code",
      "source": [
        "#Soru 1 bu bölümde kodlanmalıdır\n",
        "eposta = \"a@a.net\"\n",
        "tel = \"532\"\n",
        "sifre = \"123\"\n",
        "kullanicilar = {\"example@example.com\": \"123456\" , \"gozdenr09@icloud.com\": \"password123\"  ,\"user@example.com\": \"7890\",}\n",
        "kullanici_adi = input(\"Kullanıcı adınızı (eposta veya telefon numarası) girin: \")\n",
        "sifre = input(\"Şifrenizi girin: \")\n",
        "if kullanici_adi in kullanicilar:\n",
        "    dogru_sifre = kullanicilar[kullanici_adi]\n",
        "    if sifre == dogru_sifre:\n",
        "        print(\"Sisteme giriş yaptınız.\")\n",
        "    else:\n",
        "        print(\"Şifre hatalı.\")\n",
        "else:\n",
        "    print(\"Kullanıcı adı hatalı.\")\n",
        "\n",
        "\n",
        "\n"
      ],
      "metadata": {
        "id": "Fj7wkLMcjp_7",
        "colab": {
          "base_uri": "https://localhost:8080/"
        },
        "outputId": "000b0a6d-393b-43d9-d078-97e9117b2657"
      },
      "execution_count": null,
      "outputs": [
        {
          "output_type": "stream",
          "name": "stdout",
          "text": [
            "Kullanıcı adınızı (eposta veya telefon numarası) girin: gozdenr09@icloud.com\n",
            "Şifrenizi girin: password123\n",
            "Sisteme giriş yaptınız.\n"
          ]
        }
      ]
    },
    {
      "cell_type": "markdown",
      "source": [
        "**Soru 2:** Klavyeden girilen bir insan ismindeki harf sayısına göre ekrana bir cümle yazdırınız. Örneğin 4 harfli bir isim girildiğinde ekrana \"Dört dörtlük bir isim\", 6 harfli bir isim girildiğinde ekrana \"Altıncı hissin kuvvetli\" yazılabilmelidir. Klavyeden üçten az ya da yediden çok harfe sahip bir isim girildiğinde ise ekrana \"isminiz sisteme uygun değildir\" mesajı yazdırılmalıdır."
      ],
      "metadata": {
        "id": "uZDiXJARgK4o"
      }
    },
    {
      "cell_type": "code",
      "source": [
        "#Soru 2 bu bölümde kodlanmalıdır\n",
        "isim = input(\"Bir isim girin: \")\n",
        "harf_sayisi = len(isim)\n",
        "if harf_sayisi == 3:\n",
        "    print(\"Üç maymun adı altında.\")\n",
        "elif harf_sayisi == 4:\n",
        "    print(\"Dört dörtlük bir isim.\")\n",
        "elif harf_sayisi == 5:\n",
        "    print(\"Beş dakika önce.\")\n",
        "elif harf_sayisi == 6:\n",
        "    print(\"Altıncı hissin kuvvetli.\")\n",
        "else:\n",
        "    print(\"İsminiz sisteme uygun değildir.\")\n"
      ],
      "metadata": {
        "id": "no7Zd1ZCh5U3",
        "outputId": "f41fbf47-646b-4f61-fb89-7072d8ebb6f1",
        "colab": {
          "base_uri": "https://localhost:8080/"
        }
      },
      "execution_count": null,
      "outputs": [
        {
          "output_type": "stream",
          "name": "stdout",
          "text": [
            "Bir isim girin: gözde\n",
            "Beş dakika önce.\n"
          ]
        }
      ]
    },
    {
      "cell_type": "markdown",
      "source": [
        "**Soru 3:** 5 öğenin yer aldığı bir kelime tahmin oyunu oluşturun. Kelimeler bir liste içinde yer almalıdır. Klavyeden girilen kelime liste içinde yer alan kelimelerden biri ise ekrana \"bravo oyunu kazandınız\", aksi halde ise ekrana \"üzgünüm oyunu kaybettiniz\" mesajı gelmelidir."
      ],
      "metadata": {
        "id": "HnIqbjcCeNEV"
      }
    },
    {
      "cell_type": "code",
      "source": [
        "#Soru 3 bu bölümde kodlanmalıdır\n",
        "kelimeler = [\"bir\", \"armut\", \"çilek\", \"iki\", \"beş\"]\n",
        "tahmin = input(\"Bir kelime tahmin edin: \")\n",
        "if tahmin in kelimeler:\n",
        "    print(\"Bravo! Oyunu kazandınız.\")\n",
        "else:\n",
        "     print(\"Üzgünüm! Oyunu kaybettiniz.\")\n",
        "\n"
      ],
      "metadata": {
        "id": "SjzG5g3ffTyv",
        "outputId": "4b52e934-23b3-4be1-d4f6-8937bb3fa147",
        "colab": {
          "base_uri": "https://localhost:8080/"
        }
      },
      "execution_count": null,
      "outputs": [
        {
          "output_type": "stream",
          "name": "stdout",
          "text": [
            "Bir kelime tahmin edin: iki\n",
            "Bravo! Oyunu kazandınız.\n"
          ]
        }
      ]
    },
    {
      "cell_type": "markdown",
      "source": [
        "**Soru 4:** 5 öğenin yer aldığı bir sözlük oluşturun. Bu sözlükte 5 kelime ve bu 5 kelimenin anlamları yer almalıdır. Klavyeden girilen anahtar (key) eğer sözlükte varsa kelimenin anlamı ekrana yazdırılmalıdır. Eğer anahtar sözlükte yoksa sözlükte aranan kelimenin olmadığı bilgisi ekrana yazdırılmalıdır."
      ],
      "metadata": {
        "id": "p49cZFjJcXoS"
      }
    },
    {
      "cell_type": "code",
      "execution_count": null,
      "metadata": {
        "id": "3whYCDz3a8QZ",
        "outputId": "9b92ec71-d764-4f2e-a1dc-4926dde337ab",
        "colab": {
          "base_uri": "https://localhost:8080/"
        }
      },
      "outputs": [
        {
          "output_type": "stream",
          "name": "stdout",
          "text": [
            "Aramak istediğiniz kelimeyi giriniz:insan\n",
            "kelimenin anlamı: bir canlı\n"
          ]
        }
      ],
      "source": [
        "#Soru 4 bu bölümde kodlanmalıdır\n",
        "sozluk = {\"elma\" : \"bir meyve\",\n",
        "\"insan\": \"bir canlı\",\n",
        "\"masa\" : \"üzerine eşya konulan bir mobilya\",\n",
        "\"kitap\": \"kağıt\",\n",
        "\"bilgisiyar\": \"bilgi işlem\"}\n",
        "anahtar= input(\"Aramak istediğiniz kelimeyi giriniz:\")\n",
        "if anahtar in sozluk:\n",
        "  print(\"kelimenin anlamı:\", sozluk[anahtar] )\n",
        "else:\n",
        "  print(\"Sözlükte aradığınız kelime bulunmamaktadır.\")\n",
        "\n"
      ]
    }
  ]
}